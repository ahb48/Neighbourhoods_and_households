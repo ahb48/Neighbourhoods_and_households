{
 "cells": [
  {
   "cell_type": "markdown",
   "id": "86405d50-7b71-47c9-82e7-1666e99e91dc",
   "metadata": {},
   "source": [
    "# Figure 3: Probability of outbreak versus threshold of concurrent infections"
   ]
  },
  {
   "cell_type": "markdown",
   "id": "5c0eb6f9-4566-4ac8-bac1-8b0f78432f90",
   "metadata": {
    "tags": []
   },
   "source": [
    "## Abby Barlow, University of Bath\n",
    "## Ben Adams, University of Bath"
   ]
  },
  {
   "cell_type": "markdown",
   "id": "37a49ee8-cf41-4cce-8ade-ea956997aea7",
   "metadata": {},
   "source": [
    "### Importing required libraries"
   ]
  },
  {
   "cell_type": "code",
   "execution_count": 1,
   "id": "c39919f8-2c04-4553-98ba-db9511defccf",
   "metadata": {
    "tags": []
   },
   "outputs": [],
   "source": [
    "%matplotlib inline\n",
    "import numpy as np\n",
    "import pylab as plt\n",
    "from scipy.optimize import fsolve\n",
    "import multiprocessing as mp\n",
    "import timeit"
   ]
  },
  {
   "cell_type": "markdown",
   "id": "4ce75046-421a-4779-b065-54a21d5b3b76",
   "metadata": {
    "tags": []
   },
   "source": [
    "### Importing required scripts"
   ]
  },
  {
   "cell_type": "code",
   "execution_count": 2,
   "id": "8e0ed589-1016-4caa-bde5-d9359495943f",
   "metadata": {
    "tags": []
   },
   "outputs": [],
   "source": [
    "import importlib\n",
    "import Gillespie_household_full\n",
    "import R_star_construct\n",
    "\n",
    "importlib.reload(Gillespie_household_full)\n",
    "importlib.reload(R_star_construct)\n",
    "\n",
    "do_Gillespie = Gillespie_household_full.do_Gillespie\n",
    "RstarAnal = R_star_construct.RstarAnal"
   ]
  },
  {
   "cell_type": "markdown",
   "id": "38627e59-2eb2-446e-99db-c849e8ded6db",
   "metadata": {},
   "source": [
    "### Parameters"
   ]
  },
  {
   "cell_type": "code",
   "execution_count": 3,
   "id": "b3140b98-3aee-420a-a18d-7d43297e7293",
   "metadata": {
    "tags": []
   },
   "outputs": [],
   "source": [
    "h1,h2 = 2520,2520            # no. of households in each neighbourhood\n",
    "n1,n2 = 2,2                  # size of households for each neighbourhood\n",
    "Inf1,Inf2 = 1,0              # initial no. of infections in each neighbourhood\n",
    "gamma = 0.2                  # recovery rate from infection\n",
    "days = 100                   # no. of days in simulation\n",
    "tStart, tEnd = 0, days       # start time and end time (days) of simulation\n",
    "time_points = np.linspace(tStart, tEnd, days+1)  # time points for Gillespie output, daily\n",
    "chains = 10000"
   ]
  },
  {
   "cell_type": "code",
   "execution_count": 4,
   "id": "b52b0f2a-8ac2-4d04-8386-2c720def1d35",
   "metadata": {
    "tags": []
   },
   "outputs": [
    {
     "data": {
      "text/plain": [
       "(0.27, 0.8)"
      ]
     },
     "execution_count": 4,
     "metadata": {},
     "output_type": "execute_result"
    }
   ],
   "source": [
    "nu = 3      # good range 1 to 6 (2 to 4)\n",
    "beta = fsolve(RstarAnal,0.5,(gamma,nu))[0]\n",
    "alpha = beta/nu\n",
    "\n",
    "alpha=round(alpha,2)\n",
    "beta=round(beta,2)\n",
    "alpha,beta"
   ]
  },
  {
   "cell_type": "code",
   "execution_count": 5,
   "id": "c29a5a0c-9f4a-4f06-9165-2af9c7ede60e",
   "metadata": {
    "tags": []
   },
   "outputs": [],
   "source": [
    "## constructing rho\n",
    "\n",
    "N_neigh = 2               # no. of neighbourhoods\n",
    "H = np.array([h1,h2])     # array of number of households in each neighbourhood\n",
    "N = np.array([n1,n2])     # array of household size for each neighbourhood\n",
    "\n",
    "p_reserve = np.array([0,0])            # proportion of contacts reserved for own neighbourhood\n",
    "rho = np.zeros((N_neigh,N_neigh))      # initialising array to store rho values\n",
    "\n",
    "for i in range(N_neigh): \n",
    "    for j in range(N_neigh):\n",
    "        rho[i,j] = (1-p_reserve[i])*(1-p_reserve[j])*H[j]*N[j]/(np.sum((1-p_reserve)*H*N))\n",
    "    rho[i,i] = p_reserve[i] + (1-p_reserve[i])*(1-p_reserve[i])*H[i]*N[i]/(np.sum((1-p_reserve)*H*N))"
   ]
  },
  {
   "cell_type": "markdown",
   "id": "a17ada7d-1944-4e76-9bb9-1d42b42d271f",
   "metadata": {},
   "source": [
    "### Running 10,000 full sims\n",
    "*Make sure to remove any conditions that stop the simulation early, other than there being no infectious individuals left.*"
   ]
  },
  {
   "cell_type": "code",
   "execution_count": 6,
   "id": "05674aba-f84b-45a0-b3a9-725f105d0894",
   "metadata": {
    "tags": []
   },
   "outputs": [
    {
     "name": "stdout",
     "output_type": "stream",
     "text": [
      "Time to run: 3754.3603232\n"
     ]
    }
   ],
   "source": [
    "pool = mp.Pool(mp.cpu_count())    # start paralellization\n",
    "t1 = timeit.default_timer()       # start timer\n",
    "\n",
    "params_dict = {'beta': [beta, beta],      # parameter dictionary input into SSA\n",
    "               'alpha': alpha*rho, \n",
    "               'gamma':gamma,\n",
    "               'n': [n1,n2], \n",
    "               'h': [h1,h2],\n",
    "               'inf0':[Inf1, Inf2],\n",
    "               'tStart':tStart,\n",
    "               'tEnd':tEnd,\n",
    "               'time_points':time_points\n",
    "              }\n",
    "\n",
    "out1 = pool.map(do_Gillespie, [params_dict for i in range(chains)])   # records output of sims\n",
    "\n",
    "pool.close()    # end paralellization\n",
    "print('Time to run:', timeit.default_timer() - t1)   # print how long took"
   ]
  },
  {
   "cell_type": "markdown",
   "id": "e65e464e-54b5-4ff3-9261-a90d4a6772fd",
   "metadata": {},
   "source": [
    "### Recording the results"
   ]
  },
  {
   "cell_type": "code",
   "execution_count": 7,
   "id": "6544b5e9-0a2c-4fee-9bd0-bbfe5de59ae2",
   "metadata": {
    "tags": []
   },
   "outputs": [],
   "source": [
    "outbreak1 = np.zeros(chains)  # initialise array to store outbreak sizes\n",
    "\n",
    "for i in range(chains):   # find the outbreak sizes (in terms of households) and record\n",
    "    ind_infs = np.max(np.hstack((np.nonzero(out1[i][:,0]), np.nonzero(out1[i][:,1]))))\n",
    "    outbreak1[i] = np.sum(out1[i][ind_infs,:])"
   ]
  },
  {
   "cell_type": "code",
   "execution_count": 8,
   "id": "2d3a4e75-a903-49cf-a81c-43fa4ded6f0d",
   "metadata": {
    "tags": []
   },
   "outputs": [
    {
     "data": {
      "text/plain": [
       "(array([ 1,  2,  3,  4,  5,  6,  7,  8,  9, 10, 11, 12, 13, 14, 15]),\n",
       " array([0.39880013, 0.58892101, 0.7133981 , 0.80764804, 0.87296102,\n",
       "        0.91854545, 0.94550082, 0.96338673, 0.97770553, 0.98349167,\n",
       "        0.98965679, 0.99370574, 0.99700032, 0.99905078, 0.99968339]))"
      ]
     },
     "execution_count": 8,
     "metadata": {},
     "output_type": "execute_result"
    }
   ],
   "source": [
    "k_thresh = np.arange(1,16,1)               # list of possible thresholds of infections\n",
    "prob_epi = np.zeros(len(k_thresh))  # initialise array to store probability of outbreak for each threshold\n",
    "\n",
    "for k in range(len(k_thresh)):   # loop over thresholds\n",
    "    correct = 0                  # initialise counters\n",
    "    jinfs = 0\n",
    "    for i in range(chains):\n",
    "        hhold_infs = out1[i]     # unpacking no. of households infected\n",
    "     \n",
    "        for j in range(len(time_points)):                   # looping over time points  for each run\n",
    "            if (np.sum(hhold_infs[j,:]) >= k_thresh[k]):    # if reach threshold number of infections\n",
    "                jinfs += 1                                  # count\n",
    "                if outbreak1[i] > 15:            # if total outbreak is larger than 15 households say\n",
    "                    correct += 1                 # count as correct\n",
    "                    break\n",
    "            \n",
    "    prob_epi[k] = correct/jinfs    # prob of epidemic is no. of correct obs/ total no. of times threshold met\n",
    "k_thresh,prob_epi"
   ]
  },
  {
   "cell_type": "markdown",
   "id": "2526df05-28cb-4df7-85aa-27791f737d1d",
   "metadata": {},
   "source": [
    "### Producing figure"
   ]
  },
  {
   "cell_type": "code",
   "execution_count": 9,
   "id": "62a7af07-fed2-40a0-a4b0-54ec2911a08f",
   "metadata": {
    "tags": []
   },
   "outputs": [
    {
     "name": "stderr",
     "output_type": "stream",
     "text": [
      "findfont: Font family ['cmsy10'] not found. Falling back to DejaVu Sans.\n",
      "findfont: Font family ['cmr10'] not found. Falling back to DejaVu Sans.\n",
      "findfont: Font family ['cmtt10'] not found. Falling back to DejaVu Sans.\n",
      "findfont: Font family ['cmmi10'] not found. Falling back to DejaVu Sans.\n",
      "findfont: Font family ['cmb10'] not found. Falling back to DejaVu Sans.\n",
      "findfont: Font family ['cmss10'] not found. Falling back to DejaVu Sans.\n",
      "findfont: Font family ['cmex10'] not found. Falling back to DejaVu Sans.\n"
     ]
    },
    {
     "data": {
      "image/png": "[encoded data removed]",
      "text/plain": [
       "<Figure size 640x480 with 1 Axes>"
      ]
     },
     "metadata": {},
     "output_type": "display_data"
    }
   ],
   "source": [
    "## Plot outbreak probability vs thresholds of infections\n",
    "plt.rcParams.update({'font.size': 20})\n",
    "plt.plot(k_thresh,prob_epi,'*')\n",
    "plt.xticks([0,2,4,6,8,10,12,14,16])\n",
    "plt.xlabel('Threshold no. of infections $k$')\n",
    "plt.ylabel(r'Outbreak probability $p_k$')\n",
    "plt.tight_layout()\n",
    "plt.savefig('identifiers.pdf')"
   ]
  },
  {
   "cell_type": "code",
   "execution_count": null,
   "id": "1994bd2b-682d-4a7c-843d-4a094a5ffb0e",
   "metadata": {},
   "outputs": [],
   "source": []
  }
 ],
 "metadata": {
  "kernelspec": {
   "display_name": "Python 3 (ipykernel)",
   "language": "python",
   "name": "python3"
  },
  "language_info": {
   "codemirror_mode": {
    "name": "ipython",
    "version": 3
   },
   "file_extension": ".py",
   "mimetype": "text/x-python",
   "name": "python",
   "nbconvert_exporter": "python",
   "pygments_lexer": "ipython3",
   "version": "3.8.17"
  }
 },
 "nbformat": 4,
 "nbformat_minor": 5
}
