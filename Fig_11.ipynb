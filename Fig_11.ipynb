{
 "cells": [
  {
   "cell_type": "markdown",
   "id": "74abef0a-1844-4f01-9b10-2056f9764d3a",
   "metadata": {},
   "source": [
    "# Figure 11: Probabilitiy neighbourhood infection observed $1$st, $2$nd,...,$6$th in each neighbourhood"
   ]
  },
  {
   "cell_type": "markdown",
   "id": "970ba04e-8450-44ae-9f2d-2c0068a42c67",
   "metadata": {},
   "source": [
    "## Abby Barlow, University of Bath\n",
    "## Ben Adams, University of Bath"
   ]
  },
  {
   "cell_type": "markdown",
   "id": "5786ad2f-d52b-4ecb-86ae-eff41caf6f2f",
   "metadata": {},
   "source": [
    "### Importing required libraries"
   ]
  },
  {
   "cell_type": "code",
   "execution_count": 1,
   "id": "8c9de73e-757a-4d8e-bf80-441c8c634b5f",
   "metadata": {
    "tags": []
   },
   "outputs": [],
   "source": [
    "%matplotlib inline\n",
    "import time\n",
    "import numpy as np\n",
    "import pylab as plt\n",
    "import random\n",
    "import multiprocessing as mp\n",
    "from scipy.optimize import fsolve\n",
    "from numpy import unique\n",
    "from numpy import where\n",
    "from sklearn.cluster import Birch\n",
    "import pandas as pd\n",
    "import itertools"
   ]
  },
  {
   "cell_type": "markdown",
   "id": "0aeae9a5-5b4b-4cc3-b692-f2b7745b038d",
   "metadata": {},
   "source": [
    "### *Run Figure 9 notebook first*"
   ]
  },
  {
   "cell_type": "markdown",
   "id": "f6baafe1-bd2f-4732-aab4-444fa10199d1",
   "metadata": {},
   "source": [
    "### Loading previous results"
   ]
  },
  {
   "cell_type": "code",
   "execution_count": 2,
   "id": "7930fe7d-09fb-4f99-ac95-b6f9d3d7136d",
   "metadata": {
    "tags": []
   },
   "outputs": [],
   "source": [
    "# the file paths need to be changed to your own file path\n",
    "file_path = 'C:/Users/abby2/Documents/SAMBa/Demographic clustering project/Publication_results/seq_count.csv'\n",
    "file_path2 = 'C:/Users/abby2/Documents/SAMBa/Demographic clustering project/Publication_results/number_of_outbreaks.csv'\n",
    "\n",
    "# Load the data from the CSV file into a pandas DataFrame\n",
    "seq_count_nu = pd.read_csv(file_path, header=None) \n",
    "neighs = np.arange(0,6,1)                       # creating array of all the possible neighbourhood infection\n",
    "seqs = list(itertools.permutations(neighs,6))   # sequences\n",
    "\n",
    "seq_counts_nu = np.zeros(len(seqs))\n",
    "seq_counts_nu[:] = seq_count_nu.iloc[:, 0]  # reformat as an array\n",
    "number_of_outbreaks = pd.read_csv(file_path2, header=None)\n",
    "num_out = number_of_outbreaks.iloc[:, 0][0]\n",
    "\n",
    "data = np.zeros((len(seqs),len(seqs)))\n",
    "data[:,1] = seq_counts_nu/num_out\n",
    "data[:,0] = np.arange(0,len(seqs),1)\n",
    "\n",
    "y_coordinates = data[:, 1].reshape(-1, 1)"
   ]
  },
  {
   "cell_type": "code",
   "execution_count": 3,
   "id": "bcb56df8-5ffd-4b7a-9efa-561098d114c7",
   "metadata": {
    "tags": []
   },
   "outputs": [
    {
     "data": {
      "text/html": [
       "<div>\n",
       "<style scoped>\n",
       "    .dataframe tbody tr th:only-of-type {\n",
       "        vertical-align: middle;\n",
       "    }\n",
       "\n",
       "    .dataframe tbody tr th {\n",
       "        vertical-align: top;\n",
       "    }\n",
       "\n",
       "    .dataframe thead th {\n",
       "        text-align: right;\n",
       "    }\n",
       "</style>\n",
       "<table border=\"1\" class=\"dataframe\">\n",
       "  <thead>\n",
       "    <tr style=\"text-align: right;\">\n",
       "      <th></th>\n",
       "      <th>0</th>\n",
       "      <th>1</th>\n",
       "      <th>2</th>\n",
       "      <th>3</th>\n",
       "      <th>4</th>\n",
       "      <th>5</th>\n",
       "    </tr>\n",
       "  </thead>\n",
       "  <tbody>\n",
       "    <tr>\n",
       "      <th>0</th>\n",
       "      <td>5.0</td>\n",
       "      <td>0.0</td>\n",
       "      <td>2.0</td>\n",
       "      <td>4.0</td>\n",
       "      <td>3.0</td>\n",
       "      <td>1.0</td>\n",
       "    </tr>\n",
       "    <tr>\n",
       "      <th>1</th>\n",
       "      <td>5.0</td>\n",
       "      <td>0.0</td>\n",
       "      <td>2.0</td>\n",
       "      <td>4.0</td>\n",
       "      <td>3.0</td>\n",
       "      <td>1.0</td>\n",
       "    </tr>\n",
       "    <tr>\n",
       "      <th>2</th>\n",
       "      <td>5.0</td>\n",
       "      <td>0.0</td>\n",
       "      <td>2.0</td>\n",
       "      <td>4.0</td>\n",
       "      <td>3.0</td>\n",
       "      <td>1.0</td>\n",
       "    </tr>\n",
       "    <tr>\n",
       "      <th>3</th>\n",
       "      <td>5.0</td>\n",
       "      <td>0.0</td>\n",
       "      <td>2.0</td>\n",
       "      <td>4.0</td>\n",
       "      <td>3.0</td>\n",
       "      <td>1.0</td>\n",
       "    </tr>\n",
       "    <tr>\n",
       "      <th>4</th>\n",
       "      <td>5.0</td>\n",
       "      <td>0.0</td>\n",
       "      <td>2.0</td>\n",
       "      <td>4.0</td>\n",
       "      <td>3.0</td>\n",
       "      <td>1.0</td>\n",
       "    </tr>\n",
       "    <tr>\n",
       "      <th>...</th>\n",
       "      <td>...</td>\n",
       "      <td>...</td>\n",
       "      <td>...</td>\n",
       "      <td>...</td>\n",
       "      <td>...</td>\n",
       "      <td>...</td>\n",
       "    </tr>\n",
       "    <tr>\n",
       "      <th>2177</th>\n",
       "      <td>5.0</td>\n",
       "      <td>4.0</td>\n",
       "      <td>2.0</td>\n",
       "      <td>0.0</td>\n",
       "      <td>3.0</td>\n",
       "      <td>1.0</td>\n",
       "    </tr>\n",
       "    <tr>\n",
       "      <th>2178</th>\n",
       "      <td>5.0</td>\n",
       "      <td>4.0</td>\n",
       "      <td>2.0</td>\n",
       "      <td>0.0</td>\n",
       "      <td>3.0</td>\n",
       "      <td>1.0</td>\n",
       "    </tr>\n",
       "    <tr>\n",
       "      <th>2179</th>\n",
       "      <td>5.0</td>\n",
       "      <td>4.0</td>\n",
       "      <td>2.0</td>\n",
       "      <td>0.0</td>\n",
       "      <td>1.0</td>\n",
       "      <td>3.0</td>\n",
       "    </tr>\n",
       "    <tr>\n",
       "      <th>2180</th>\n",
       "      <td>5.0</td>\n",
       "      <td>4.0</td>\n",
       "      <td>2.0</td>\n",
       "      <td>0.0</td>\n",
       "      <td>1.0</td>\n",
       "      <td>3.0</td>\n",
       "    </tr>\n",
       "    <tr>\n",
       "      <th>2181</th>\n",
       "      <td>5.0</td>\n",
       "      <td>4.0</td>\n",
       "      <td>2.0</td>\n",
       "      <td>0.0</td>\n",
       "      <td>1.0</td>\n",
       "      <td>3.0</td>\n",
       "    </tr>\n",
       "  </tbody>\n",
       "</table>\n",
       "<p>2182 rows × 6 columns</p>\n",
       "</div>"
      ],
      "text/plain": [
       "        0    1    2    3    4    5\n",
       "0     5.0  0.0  2.0  4.0  3.0  1.0\n",
       "1     5.0  0.0  2.0  4.0  3.0  1.0\n",
       "2     5.0  0.0  2.0  4.0  3.0  1.0\n",
       "3     5.0  0.0  2.0  4.0  3.0  1.0\n",
       "4     5.0  0.0  2.0  4.0  3.0  1.0\n",
       "...   ...  ...  ...  ...  ...  ...\n",
       "2177  5.0  4.0  2.0  0.0  3.0  1.0\n",
       "2178  5.0  4.0  2.0  0.0  3.0  1.0\n",
       "2179  5.0  4.0  2.0  0.0  1.0  3.0\n",
       "2180  5.0  4.0  2.0  0.0  1.0  3.0\n",
       "2181  5.0  4.0  2.0  0.0  1.0  3.0\n",
       "\n",
       "[2182 rows x 6 columns]"
      ]
     },
     "execution_count": 3,
     "metadata": {},
     "output_type": "execute_result"
    }
   ],
   "source": [
    "#file_path = 'C:/Users/abby2/Documents/SAMBa/Demographic clustering project/Publication_results/top_count.csv'\n",
    "#top_count = pd.read_csv(file_path, header=None)\n",
    "file_path = 'C:/Users/abby2/Documents/SAMBa/Demographic clustering project/Publication_results/top_seqs.csv'\n",
    "top_seqs = pd.read_csv(file_path, header=None)\n",
    "top_seqs"
   ]
  },
  {
   "cell_type": "markdown",
   "id": "57103ca7-a5ba-443e-8da8-b0c7fd7e0120",
   "metadata": {},
   "source": [
    "### Producing figure"
   ]
  },
  {
   "cell_type": "code",
   "execution_count": 4,
   "id": "f607c046-3d0e-4b0b-bf1a-5d73fbc4a48e",
   "metadata": {
    "tags": []
   },
   "outputs": [
    {
     "name": "stderr",
     "output_type": "stream",
     "text": [
      "findfont: Font family ['cmsy10'] not found. Falling back to DejaVu Sans.\n",
      "findfont: Font family ['cmr10'] not found. Falling back to DejaVu Sans.\n",
      "findfont: Font family ['cmtt10'] not found. Falling back to DejaVu Sans.\n",
      "findfont: Font family ['cmmi10'] not found. Falling back to DejaVu Sans.\n",
      "findfont: Font family ['cmb10'] not found. Falling back to DejaVu Sans.\n",
      "findfont: Font family ['cmss10'] not found. Falling back to DejaVu Sans.\n",
      "findfont: Font family ['cmex10'] not found. Falling back to DejaVu Sans.\n"
     ]
    },
    {
     "data": {
      "image/png": "[encoded data removed]",
      "text/plain": [
       "<Figure size 1000x500 with 7 Axes>"
      ]
     },
     "metadata": {},
     "output_type": "display_data"
    }
   ],
   "source": [
    "# plotting the proportion of times infection observed 1st, 2nd, 3rd,...,6th in each neighbourhood \n",
    "# in the sequences that occur in 'top seqs'\n",
    "\n",
    "N_neigh = 6\n",
    "plt.rcParams.update({'font.size': 20})\n",
    "figure = plt.figure(figsize=(10,5)) \n",
    "\n",
    "x = ['1', '2', '3', '4', '5', '6']\n",
    "x_pos = [i for i, _ in enumerate(x)]\n",
    "\n",
    "for i in range(N_neigh):     # looping over first, second, ..., sixth neighbourhood outbreak observed\n",
    "    plt.subplot(2,3,i+1)\n",
    "    plt.bar(x_pos, np.bincount(top_seqs.iloc[:,i],minlength=N_neigh)/len(top_seqs.iloc[:,i]), color='blue')\n",
    "    plt.xticks([0,1,2,3,4,5], labels = [1,2,3,4,5,6], color='black', fontsize=20)\n",
    "    plt.yticks(color='black', fontsize=20)\n",
    "    plt.title('Obs. {}'.format(i+1),fontsize=18)\n",
    "    plt.grid(False)\n",
    "    plt.tight_layout()\n",
    "figure.add_subplot(111, frame_on=False)\n",
    "plt.grid(False)\n",
    "plt.tick_params(labelcolor=\"none\", bottom=False, left=False)\n",
    "\n",
    "plt.ylabel(\"P(Neigh. infection obs.)\", labelpad=10, color='black', fontsize=20)\n",
    "plt.xlabel(\"Neighbourhood\", color='black', fontsize=20)\n",
    "plt.tight_layout()\n",
    "plt.suptitle(r'Top $6.9\\%$, $r=U[0,0.1]$ (1,3,5) and $r=U[0.4,0.5]$ (2,4,6)', fontsize=20)\n",
    "\n",
    "plt.savefig('top_seqs_nu3.pdf', bbox_inches='tight')"
   ]
  },
  {
   "cell_type": "code",
   "execution_count": null,
   "id": "abb67728-a5c8-4ede-8e4e-caaac081d71d",
   "metadata": {},
   "outputs": [],
   "source": []
  }
 ],
 "metadata": {
  "kernelspec": {
   "display_name": "Python 3 (ipykernel)",
   "language": "python",
   "name": "python3"
  },
  "language_info": {
   "codemirror_mode": {
    "name": "ipython",
    "version": 3
   },
   "file_extension": ".py",
   "mimetype": "text/x-python",
   "name": "python",
   "nbconvert_exporter": "python",
   "pygments_lexer": "ipython3",
   "version": "3.8.17"
  }
 },
 "nbformat": 4,
 "nbformat_minor": 5
}
