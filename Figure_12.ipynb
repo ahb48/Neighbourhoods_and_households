{
 "cells": [
  {
   "cell_type": "markdown",
   "id": "439e1869-b162-45c3-a18c-eede9e5dd52a",
   "metadata": {},
   "source": [
    "# Figure 12: Probabilitiy neighbourhood infection observed $1$st, $2$nd,...,$6$th in each neighbourhood when r takes value from the distribution $U[0, 0.7]$"
   ]
  },
  {
   "cell_type": "markdown",
   "id": "a7e9299a-4449-4a25-96a0-55a5f1d44e80",
   "metadata": {},
   "source": [
    "## Abby Barlow, University of Bath\n",
    "## Ben Adams, University of Bath"
   ]
  },
  {
   "cell_type": "markdown",
   "id": "e749aaee-b4a0-467d-bf55-f240f329ed7b",
   "metadata": {
    "tags": []
   },
   "source": [
    "### Importing required libraries"
   ]
  },
  {
   "cell_type": "code",
   "execution_count": 1,
   "id": "49cb73a1-e83f-4ec8-bd21-9f12bd795103",
   "metadata": {
    "tags": []
   },
   "outputs": [],
   "source": [
    "%matplotlib inline\n",
    "import time\n",
    "import numpy as np\n",
    "import pylab as plt\n",
    "import random\n",
    "import multiprocessing as mp\n",
    "from scipy.optimize import fsolve\n",
    "from numpy import unique\n",
    "from numpy import where\n",
    "from sklearn.cluster import Birch\n",
    "import pandas as pd\n",
    "import itertools"
   ]
  },
  {
   "cell_type": "markdown",
   "id": "2eb82a1b-c0a3-444f-8250-48796dbb4854",
   "metadata": {},
   "source": [
    "### *Run Figure 11 notebook first*"
   ]
  },
  {
   "cell_type": "markdown",
   "id": "60dd9acc-5b38-4a59-be38-2fd85741b70f",
   "metadata": {},
   "source": [
    "### Loading previous results"
   ]
  },
  {
   "cell_type": "code",
   "execution_count": 2,
   "id": "ae8ae6c6-4ace-46c3-9a13-12d1eb282ad7",
   "metadata": {},
   "outputs": [],
   "source": [
    "file_path = 'C:/Users/abby2/Documents/SAMBa/Demographic clustering project/Publication_results/seq_count8.csv'\n",
    "file_path2 = 'C:/Users/abby2/Documents/SAMBa/Demographic clustering project/Publication_results/number_of_outbreaks_rran.csv'\n",
    "\n",
    "# Load the data from the CSV file into a pandas DataFrame\n",
    "seq_count8 = pd.read_csv(file_path, header=None)\n",
    "neighs = np.arange(0,6,1)                       # creating array of all the possible neighbourhood infection\n",
    "seqs = list(itertools.permutations(neighs,6))   # sequences\n",
    "\n",
    "seq_counts8 = np.zeros(len(seqs))\n",
    "seq_counts8[:] = seq_count8.iloc[:, 0]  # reformat as an array\n",
    "number_of_outbreaks = pd.read_csv(file_path2, header=None)\n",
    "num_out = number_of_outbreaks.iloc[:, 0][0]\n",
    "\n",
    "data = np.zeros((len(seqs),len(seqs)))\n",
    "data[:,1] = seq_counts8/num_out\n",
    "data[:,0] = np.arange(0,len(seqs),1)\n",
    "\n",
    "y_coordinates = data[:, 1].reshape(-1, 1)"
   ]
  },
  {
   "cell_type": "code",
   "execution_count": 3,
   "id": "febbd11c-b276-40d2-9066-3db7c60eb09e",
   "metadata": {
    "tags": []
   },
   "outputs": [
    {
     "data": {
      "text/html": [
       "<div>\n",
       "<style scoped>\n",
       "    .dataframe tbody tr th:only-of-type {\n",
       "        vertical-align: middle;\n",
       "    }\n",
       "\n",
       "    .dataframe tbody tr th {\n",
       "        vertical-align: top;\n",
       "    }\n",
       "\n",
       "    .dataframe thead th {\n",
       "        text-align: right;\n",
       "    }\n",
       "</style>\n",
       "<table border=\"1\" class=\"dataframe\">\n",
       "  <thead>\n",
       "    <tr style=\"text-align: right;\">\n",
       "      <th></th>\n",
       "      <th>0</th>\n",
       "      <th>1</th>\n",
       "      <th>2</th>\n",
       "      <th>3</th>\n",
       "      <th>4</th>\n",
       "      <th>5</th>\n",
       "    </tr>\n",
       "  </thead>\n",
       "  <tbody>\n",
       "    <tr>\n",
       "      <th>0</th>\n",
       "      <td>5.0</td>\n",
       "      <td>4.0</td>\n",
       "      <td>3.0</td>\n",
       "      <td>2.0</td>\n",
       "      <td>0.0</td>\n",
       "      <td>1.0</td>\n",
       "    </tr>\n",
       "    <tr>\n",
       "      <th>1</th>\n",
       "      <td>5.0</td>\n",
       "      <td>4.0</td>\n",
       "      <td>3.0</td>\n",
       "      <td>2.0</td>\n",
       "      <td>0.0</td>\n",
       "      <td>1.0</td>\n",
       "    </tr>\n",
       "    <tr>\n",
       "      <th>2</th>\n",
       "      <td>5.0</td>\n",
       "      <td>4.0</td>\n",
       "      <td>3.0</td>\n",
       "      <td>2.0</td>\n",
       "      <td>0.0</td>\n",
       "      <td>1.0</td>\n",
       "    </tr>\n",
       "    <tr>\n",
       "      <th>3</th>\n",
       "      <td>5.0</td>\n",
       "      <td>4.0</td>\n",
       "      <td>3.0</td>\n",
       "      <td>2.0</td>\n",
       "      <td>0.0</td>\n",
       "      <td>1.0</td>\n",
       "    </tr>\n",
       "    <tr>\n",
       "      <th>4</th>\n",
       "      <td>5.0</td>\n",
       "      <td>4.0</td>\n",
       "      <td>3.0</td>\n",
       "      <td>2.0</td>\n",
       "      <td>0.0</td>\n",
       "      <td>1.0</td>\n",
       "    </tr>\n",
       "    <tr>\n",
       "      <th>...</th>\n",
       "      <td>...</td>\n",
       "      <td>...</td>\n",
       "      <td>...</td>\n",
       "      <td>...</td>\n",
       "      <td>...</td>\n",
       "      <td>...</td>\n",
       "    </tr>\n",
       "    <tr>\n",
       "      <th>2445</th>\n",
       "      <td>5.0</td>\n",
       "      <td>4.0</td>\n",
       "      <td>3.0</td>\n",
       "      <td>0.0</td>\n",
       "      <td>2.0</td>\n",
       "      <td>1.0</td>\n",
       "    </tr>\n",
       "    <tr>\n",
       "      <th>2446</th>\n",
       "      <td>5.0</td>\n",
       "      <td>4.0</td>\n",
       "      <td>3.0</td>\n",
       "      <td>0.0</td>\n",
       "      <td>2.0</td>\n",
       "      <td>1.0</td>\n",
       "    </tr>\n",
       "    <tr>\n",
       "      <th>2447</th>\n",
       "      <td>5.0</td>\n",
       "      <td>4.0</td>\n",
       "      <td>3.0</td>\n",
       "      <td>0.0</td>\n",
       "      <td>2.0</td>\n",
       "      <td>1.0</td>\n",
       "    </tr>\n",
       "    <tr>\n",
       "      <th>2448</th>\n",
       "      <td>5.0</td>\n",
       "      <td>4.0</td>\n",
       "      <td>3.0</td>\n",
       "      <td>0.0</td>\n",
       "      <td>2.0</td>\n",
       "      <td>1.0</td>\n",
       "    </tr>\n",
       "    <tr>\n",
       "      <th>2449</th>\n",
       "      <td>5.0</td>\n",
       "      <td>4.0</td>\n",
       "      <td>3.0</td>\n",
       "      <td>0.0</td>\n",
       "      <td>2.0</td>\n",
       "      <td>1.0</td>\n",
       "    </tr>\n",
       "  </tbody>\n",
       "</table>\n",
       "<p>2450 rows × 6 columns</p>\n",
       "</div>"
      ],
      "text/plain": [
       "        0    1    2    3    4    5\n",
       "0     5.0  4.0  3.0  2.0  0.0  1.0\n",
       "1     5.0  4.0  3.0  2.0  0.0  1.0\n",
       "2     5.0  4.0  3.0  2.0  0.0  1.0\n",
       "3     5.0  4.0  3.0  2.0  0.0  1.0\n",
       "4     5.0  4.0  3.0  2.0  0.0  1.0\n",
       "...   ...  ...  ...  ...  ...  ...\n",
       "2445  5.0  4.0  3.0  0.0  2.0  1.0\n",
       "2446  5.0  4.0  3.0  0.0  2.0  1.0\n",
       "2447  5.0  4.0  3.0  0.0  2.0  1.0\n",
       "2448  5.0  4.0  3.0  0.0  2.0  1.0\n",
       "2449  5.0  4.0  3.0  0.0  2.0  1.0\n",
       "\n",
       "[2450 rows x 6 columns]"
      ]
     },
     "execution_count": 3,
     "metadata": {},
     "output_type": "execute_result"
    }
   ],
   "source": [
    "file_path = 'C:/Users/abby2/Documents/SAMBa/Demographic clustering project/Publication_results/top_seqs_rrand.csv'\n",
    "top_seqs = pd.read_csv(file_path, header=None)\n",
    "top_seqs"
   ]
  },
  {
   "cell_type": "markdown",
   "id": "0804073d-1fa0-4f65-81e8-915a6fa8f0eb",
   "metadata": {},
   "source": [
    "### Producing figure"
   ]
  },
  {
   "cell_type": "code",
   "execution_count": 4,
   "id": "0c8f134f-5d38-4c37-b394-a6453561cdc8",
   "metadata": {
    "tags": []
   },
   "outputs": [
    {
     "data": {
      "image/png": "[encoded data removed]",
      "text/plain": [
       "<Figure size 1000x500 with 7 Axes>"
      ]
     },
     "metadata": {},
     "output_type": "display_data"
    }
   ],
   "source": [
    "# plotting the proportion of times infection observed 1st, 2nd, 3rd,...,6th in each neighbourhood \n",
    "# in the sequences that occur with probability > 0.19\n",
    "N_neigh = 6 # no. of neighbourhoods\n",
    "plt.rcParams.update({'font.size': 20})\n",
    "figure = plt.figure(figsize=(10,5)) \n",
    "\n",
    "x = ['1', '2', '3', '4', '5', '6']\n",
    "x_pos = [i for i, _ in enumerate(x)]\n",
    "\n",
    "for i in range(N_neigh):     # looping over first, second, ..., sixth neighbourhood outbreak observed\n",
    "    plt.subplot(2,3,i+1)\n",
    "    plt.bar(x_pos, np.bincount(top_seqs.iloc[:,i],minlength=N_neigh)/len(top_seqs.iloc[:,i]), color='blue')\n",
    "    plt.xticks([0,1,2,3,4,5], labels = [1,2,3,4,5,6], color='black', fontsize=20)\n",
    "    plt.yticks(color='black', fontsize=20)\n",
    "    plt.title('Obs. {}'.format(i+1),fontsize=18)\n",
    "    plt.grid(False)\n",
    "    plt.tight_layout()\n",
    "figure.add_subplot(111, frame_on=False)\n",
    "plt.grid(False)\n",
    "plt.tick_params(labelcolor=\"none\", bottom=False, left=False)\n",
    "\n",
    "plt.ylabel(\"P(Neigh. infection obs.)\", labelpad=10, color='black', fontsize=20)\n",
    "plt.xlabel(\"Neighbourhood\", color='black', fontsize=20)\n",
    "plt.tight_layout()\n",
    "\n",
    "#plt.savefig('top_seqs_rrand.pdf', bbox_inches='tight')"
   ]
  },
  {
   "cell_type": "code",
   "execution_count": null,
   "id": "d9283e10-d956-47cf-8dd7-21da19e3843d",
   "metadata": {},
   "outputs": [],
   "source": []
  }
 ],
 "metadata": {
  "kernelspec": {
   "display_name": "Python 3 (ipykernel)",
   "language": "python",
   "name": "python3"
  },
  "language_info": {
   "codemirror_mode": {
    "name": "ipython",
    "version": 3
   },
   "file_extension": ".py",
   "mimetype": "text/x-python",
   "name": "python",
   "nbconvert_exporter": "python",
   "pygments_lexer": "ipython3",
   "version": "3.8.17"
  }
 },
 "nbformat": 4,
 "nbformat_minor": 5
}
