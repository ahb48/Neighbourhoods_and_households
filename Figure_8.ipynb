{
 "cells": [
  {
   "cell_type": "markdown",
   "id": "a9cc0542-4946-45e4-b119-61cfffe7cbf9",
   "metadata": {},
   "source": [
    "# Figure 8: Probability first outbreak observed in each neighbourhood"
   ]
  },
  {
   "cell_type": "markdown",
   "id": "c858ccce-2237-4127-8e2f-736bf4296d3d",
   "metadata": {},
   "source": [
    "## Abby Barlow, University of Bath\n",
    "## Ben Adams, University of Bath"
   ]
  },
  {
   "cell_type": "markdown",
   "id": "353600cc-f6d5-4bcb-a9aa-47b8cf44c330",
   "metadata": {},
   "source": [
    "### Importing required libraries"
   ]
  },
  {
   "cell_type": "code",
   "execution_count": 1,
   "id": "fdba8a5e-6650-4af2-bc9f-1984aa732871",
   "metadata": {
    "tags": []
   },
   "outputs": [],
   "source": [
    "%matplotlib inline\n",
    "import time\n",
    "import numpy as np\n",
    "import pylab as plt\n",
    "import random\n",
    "import multiprocessing as mp\n",
    "from scipy.optimize import fsolve"
   ]
  },
  {
   "cell_type": "markdown",
   "id": "303b8c47-d0bc-48df-8e77-009c3ca98c52",
   "metadata": {},
   "source": [
    "### Importing required scripts"
   ]
  },
  {
   "cell_type": "code",
   "execution_count": 2,
   "id": "11f86d84-241b-47b0-ad31-edb98f674901",
   "metadata": {
    "tags": []
   },
   "outputs": [],
   "source": [
    "import importlib\n",
    "import Gillespie_household_model_6neigh\n",
    "import Gillespie_household_6neigh_first   # only records first neighbourhood outbreak\n",
    "import R_star_construct\n",
    "\n",
    "importlib.reload(Gillespie_household_model_6neigh)\n",
    "importlib.reload(Gillespie_household_6neigh_first)\n",
    "importlib.reload(R_star_construct)\n",
    "\n",
    "do_Gillespie = Gillespie_household_model_6neigh.do_Gillespie\n",
    "do_Gillespie_first = Gillespie_household_6neigh_first.do_Gillespie\n",
    "RstarAnal = R_star_construct.RstarAnal"
   ]
  },
  {
   "cell_type": "markdown",
   "id": "02e18a6a-8579-472f-aa41-4cefdb19a4b7",
   "metadata": {},
   "source": [
    "### Parameters"
   ]
  },
  {
   "cell_type": "code",
   "execution_count": 3,
   "id": "aca284b5-12f3-4389-b95f-82cf1c7d9480",
   "metadata": {
    "tags": []
   },
   "outputs": [],
   "source": [
    "h1,h2,h3,h4,h5,h6 = 2520,2520,1260,1260,840,840      # no. of households in each neighbourhood\n",
    "n1,n2,n3,n4,n5,n6 = 2,2,4,4,6,6                      # size of households for each neighbourhood\n",
    "N_neigh = 6\n",
    "\n",
    "gamma = 0.2                                                 # recovery rate from infection\n",
    "days = 100                                                  # no. of days in simulation\n",
    "tStart, tEnd = 0, days                                      # start time and end time (days) of simulation\n",
    "\n",
    "time_points = np.linspace(tStart, tEnd, days+1)  # time points for Gillespie output, daily\n",
    "chains = 50000\n",
    "\n",
    "H = np.array([h1,h2,h3,h4,h5,h6])\n",
    "N = np.array([n1,n2,n3,n4,n5,n6])"
   ]
  },
  {
   "cell_type": "code",
   "execution_count": 4,
   "id": "4a91d14f-1fa8-4a96-9178-fcf7daed23f0",
   "metadata": {
    "tags": []
   },
   "outputs": [
    {
     "data": {
      "text/plain": [
       "(0.27, 0.8)"
      ]
     },
     "execution_count": 4,
     "metadata": {},
     "output_type": "execute_result"
    }
   ],
   "source": [
    "nu = 3      # good range 1 to 6 (2 to 4)\n",
    "beta = fsolve(RstarAnal,0.5,(gamma,nu))[0]\n",
    "alpha = beta/nu\n",
    "\n",
    "alpha=round(alpha,2)\n",
    "beta=round(beta,2)\n",
    "alpha,beta"
   ]
  },
  {
   "cell_type": "markdown",
   "id": "3c5d3d4f-d543-477a-88af-3e05e4193011",
   "metadata": {},
   "source": [
    "### Run sims for 6 neighbourhoods"
   ]
  },
  {
   "cell_type": "code",
   "execution_count": 5,
   "id": "c1ae4837-c45d-4dde-b71b-5caff113240b",
   "metadata": {
    "tags": []
   },
   "outputs": [
    {
     "name": "stdout",
     "output_type": "stream",
     "text": [
      "elapsed time:  0.734375\n"
     ]
    }
   ],
   "source": [
    "obs_outbreak4 = 7*np.ones(chains)    # initially populate arrays with 7s so not confuse with zeros from\n",
    "first_inf = 7*np.ones(chains)        # neighbourhood zero\n",
    "\n",
    "alpha_vec = np.zeros(chains, dtype=object) # intialising array to store each set of alpha values\n",
    "                                           # we simulate proportion of contacts reserved for ones own \n",
    "for chain in range(chains):                # neighbourhood each run  \n",
    "\n",
    "    p_weak = np.random.uniform(0.4,0.5,1)[0] # realisation of r for weakly connected neighbourhoods\n",
    "    p_strong = np.random.uniform(0,0.1,1)[0] # realisation of r for strongly connected neighbourhoods\n",
    "\n",
    "    p_reserve = np.array([p_strong,p_weak,p_strong,p_weak,p_strong,p_weak])\n",
    "    rho = np.zeros((N_neigh,N_neigh))\n",
    "\n",
    "    for i in range(N_neigh):   # using the r values to calculate the rho values\n",
    "        for j in range(N_neigh):\n",
    "            rho[i,j] = (1-p_reserve[i])*(1-p_reserve[j])*H[j]*N[j]/(np.sum((1-p_reserve)*H*N))\n",
    "        rho[i,i] = p_reserve[i] + (1-p_reserve[i])*(1-p_reserve[i])*H[i]*N[i]/(np.sum((1-p_reserve)*H*N))\n",
    "    alpha_vec[chain] = alpha*rho   # saving all 'alpha' vectors for each simulation run\n",
    "\n",
    "t = time.process_time()          # timing how long to run\n",
    "pool = mp.Pool(mp.cpu_count())   # start paralellisation\n",
    "\n",
    "Infs = np.zeros(N_neigh)\n",
    "Infs[0] = 1                   # not actually needed just left in code atm\n",
    "\n",
    "params_dict = {'beta': [beta,beta,beta,beta,beta,beta], \n",
    "               #'alpha': alpha, # this is different for each run now\n",
    "               'gamma':gamma,\n",
    "               'n': N, \n",
    "               'h': H,\n",
    "               'inf0': Infs,\n",
    "               'tStart':tStart,\n",
    "               'tEnd':tEnd,\n",
    "               'time_points':time_points\n",
    "              }\n",
    "# we create a seperate dictionary containing the alpha values for each run and then merge the 2 together    \n",
    "neigh6_results2 = pool.map(do_Gillespie_first, [{**params_dict,**{'alpha': alpha_vec[i]}} for i in range(chains)])\n",
    "   \n",
    "pool.close()     # stop parallelisation\n",
    "\n",
    "elapsed_time = time.process_time() - t    # time took to run\n",
    "print(\"elapsed time: \", elapsed_time)"
   ]
  },
  {
   "cell_type": "markdown",
   "id": "846c2ded-e2d8-4bd4-94f5-b958237486df",
   "metadata": {},
   "source": [
    "### Unpacking results and finding first observed neighbourhood outbreak"
   ]
  },
  {
   "cell_type": "code",
   "execution_count": 6,
   "id": "0d5ea3c1-5374-488b-a9ff-3c802037477f",
   "metadata": {
    "tags": []
   },
   "outputs": [],
   "source": [
    "obs_outbreak4 = 7*np.ones(chains)    # initialise array for first neighbourhood observed outbreak\n",
    "first_inf = 7*np.ones(chains)        # initialise array for first neighbourhood infection\n",
    "\n",
    "for i in range(chains):                            # unpacking results\n",
    "    if neigh6_results2[i][0] != 7:\n",
    "        obs_outbreak4[i] = neigh6_results2[i][0]\n",
    "        first_inf[i] = neigh6_results2[i][1]\n",
    "    \n",
    "obs_outbreak4 = [out for out in obs_outbreak4 if out != 7]  # removing results where no outbreak occurred\n",
    "first_inf = [outs for outs in first_inf if outs != 7]"
   ]
  },
  {
   "cell_type": "code",
   "execution_count": 7,
   "id": "aa51f0b1-37af-40ee-b55a-c0b4c69f16f7",
   "metadata": {
    "tags": []
   },
   "outputs": [],
   "source": [
    "# save results so don't have to keep rerunning\n",
    "np.savetxt('obs_outbreak4.csv', obs_outbreak4, delimiter=',')\n",
    "np.savetxt('first_inf.csv', first_inf, delimiter=',')"
   ]
  },
  {
   "cell_type": "code",
   "execution_count": 8,
   "id": "a40afd7c-2f04-45f1-a5c0-f78de7592ce2",
   "metadata": {
    "tags": []
   },
   "outputs": [],
   "source": [
    "## calculate the probability an outbreak first observed in each neighbourhood\n",
    "prob_neigh2 = np.bincount(obs_outbreak4,minlength=6)/len(obs_outbreak4)"
   ]
  },
  {
   "cell_type": "markdown",
   "id": "14ec1368-aa22-4873-b294-e09db640c38c",
   "metadata": {},
   "source": [
    "### Producing figure"
   ]
  },
  {
   "cell_type": "code",
   "execution_count": 9,
   "id": "7057654d-23cf-41a0-a953-f28ea4c94cde",
   "metadata": {
    "tags": []
   },
   "outputs": [
    {
     "name": "stderr",
     "output_type": "stream",
     "text": [
      "findfont: Font family ['cmsy10'] not found. Falling back to DejaVu Sans.\n",
      "findfont: Font family ['cmr10'] not found. Falling back to DejaVu Sans.\n",
      "findfont: Font family ['cmtt10'] not found. Falling back to DejaVu Sans.\n",
      "findfont: Font family ['cmmi10'] not found. Falling back to DejaVu Sans.\n",
      "findfont: Font family ['cmb10'] not found. Falling back to DejaVu Sans.\n",
      "findfont: Font family ['cmss10'] not found. Falling back to DejaVu Sans.\n",
      "findfont: Font family ['cmex10'] not found. Falling back to DejaVu Sans.\n"
     ]
    },
    {
     "data": {
      "image/png": "[encoded data removed]",
      "text/plain": [
       "<Figure size 640x480 with 1 Axes>"
      ]
     },
     "metadata": {},
     "output_type": "display_data"
    }
   ],
   "source": [
    "plt.style.use('ggplot')\n",
    "\n",
    "x = ['1', '2', '3', '4', '5', '6']\n",
    "\n",
    "x_pos = [i for i, _ in enumerate(x)]\n",
    "\n",
    "plt.bar(x_pos, prob_neigh2, color='blue')\n",
    "plt.xlabel(\"Neighbourhood\", fontsize=20, color='black')\n",
    "plt.ylabel('P(First observed outbreak)', fontsize=20, color='black')\n",
    "plt.grid(False)\n",
    "plt.xticks(x_pos, x, fontsize=20, color='black')\n",
    "plt.yticks(fontsize=20, color='black')\n",
    "plt.ylim(0,0.27)\n",
    "plt.title(r'$\\nu=${}, $n=${}'.format(nu,N), fontsize=20)\n",
    "#plt.savefig('prob_obs_out_range.pdf', bbox_inches='tight')\n",
    "\n",
    "plt.show()"
   ]
  },
  {
   "cell_type": "markdown",
   "id": "236d5cbd-e481-4cdf-be56-8289a105fa0c",
   "metadata": {},
   "source": [
    "### Comparing for different $\\nu$"
   ]
  },
  {
   "cell_type": "code",
   "execution_count": 10,
   "id": "aab26fa6-b197-4b37-81e2-55f20e1e4e49",
   "metadata": {
    "tags": []
   },
   "outputs": [
    {
     "name": "stdout",
     "output_type": "stream",
     "text": [
      "elapsed time:  69.484375\n"
     ]
    }
   ],
   "source": [
    "nu_results = np.zeros((3,N_neigh))   # initialise array to store results for each nu value\n",
    "nu_var = [1,3,5]                     # list of nu values\n",
    "\n",
    "t = time.process_time()       # recording how long runs for\n",
    "\n",
    "for n in range(len(nu_var)):   # looping over different nu values\n",
    "    nu = nu_var[n]\n",
    "    beta = fsolve(RstarAnal,0.5,(gamma,nu))[0]   # finding beta value for specified nu\n",
    "    alpha = beta/nu                              # finding alpha\n",
    "    alpha = round(alpha,2)   # rounding to 2 dp.\n",
    "    beta = round(beta,2)\n",
    "    \n",
    "    obs_outbreak = np.zeros(chains)    # initialising array to unpack results into\n",
    "    \n",
    "    alpha_vec = np.zeros(chains, dtype=object) # intialising array to store each set of alpha values\n",
    "                                           # we simulate proportion of contacts reserved for ones own \n",
    "    for chain in range(chains):                # neighbourhood each run  \n",
    "\n",
    "        p_weak = np.random.uniform(0.4,0.5,1)[0] # realisation of r for weakly connected neighbourhoods\n",
    "        p_strong = np.random.uniform(0,0.1,1)[0] # realisation of r for strongly connected neighbourhoods\n",
    "\n",
    "        p_reserve = np.array([p_strong,p_weak,p_strong,p_weak,p_strong,p_weak])\n",
    "        rho = np.zeros((N_neigh,N_neigh))\n",
    "\n",
    "        for i in range(N_neigh):   # using the r values to calculate the rho values\n",
    "            for j in range(N_neigh):\n",
    "                rho[i,j] = (1-p_reserve[i])*(1-p_reserve[j])*H[j]*N[j]/(np.sum((1-p_reserve)*H*N))\n",
    "            rho[i,i] = p_reserve[i] + (1-p_reserve[i])*(1-p_reserve[i])*H[i]*N[i]/(np.sum((1-p_reserve)*H*N))\n",
    "        alpha_vec[chain] = alpha*rho   # saving all 'alpha' vectors for each simulation run\n",
    "\n",
    "\n",
    "    pool = mp.Pool(mp.cpu_count())  # start paralellisation\n",
    "\n",
    "    Infs = np.zeros(N_neigh)\n",
    "    Infs[0] = 1                   # not actually needed just left in code atm\n",
    "\n",
    "    params_dict = {'beta': [beta,beta,beta,beta,beta,beta], \n",
    "               'gamma':gamma,\n",
    "               'n': N, \n",
    "               'h': H,\n",
    "               'inf0': Infs,\n",
    "               'tStart':tStart,\n",
    "               'tEnd':tEnd,\n",
    "               'time_points':time_points\n",
    "              }\n",
    "    # we create a seperate dictionary containing the alpha values for each run and then merge the 2 together    \n",
    "    neigh6_results0 = pool.map(do_Gillespie_first, [{**params_dict,**{'alpha': alpha_vec[i]}} for i in range(chains)])\n",
    "\n",
    "    pool.close()    # end paralellisation\n",
    "\n",
    "    for i in range(chains):\n",
    "        obs_outbreak[i] = neigh6_results0[i][0]\n",
    "    obs_outbreak = [out for out in obs_outbreak if out != 7]\n",
    "    # record probability of outbreak first being observed in each neighbourhood for each nu value\n",
    "    nu_results[n,:] = np.bincount(obs_outbreak,minlength=6)/len(obs_outbreak)\n",
    "\n",
    "elapsed_time = time.process_time() - t     # record time took to run\n",
    "print(\"elapsed time: \", elapsed_time)"
   ]
  },
  {
   "cell_type": "code",
   "execution_count": 11,
   "id": "3bdd796b-155d-4ba3-a2c6-af0600474e2f",
   "metadata": {
    "tags": []
   },
   "outputs": [],
   "source": [
    "# save results so don't have to keep rerunning\n",
    "np.savetxt('nu_results.csv', nu_results, delimiter=',')"
   ]
  },
  {
   "cell_type": "markdown",
   "id": "11246155-3859-4da7-850b-a7855d4342bf",
   "metadata": {},
   "source": [
    "### Producing figure"
   ]
  },
  {
   "cell_type": "code",
   "execution_count": 12,
   "id": "389eb1d2-2370-4dd0-bc5c-b28dcf05ceb6",
   "metadata": {
    "tags": []
   },
   "outputs": [
    {
     "data": {
      "image/png": "[encoded data removed]",
      "text/plain": [
       "<Figure size 640x480 with 1 Axes>"
      ]
     },
     "metadata": {},
     "output_type": "display_data"
    }
   ],
   "source": [
    "heights_a = nu_results[0,:]  # nu=1  red\n",
    "heights_b = nu_results[1,:]  # nu=3  blue\n",
    "heights_c = nu_results[2,:]  # nu=5  purple\n",
    "\n",
    "position = np.arange(N_neigh)\n",
    "colors = ['C0','C1','C2']\n",
    "\n",
    "plt.figure()\n",
    "\n",
    "# want coloured bars to be overlapping so can compare\n",
    "for x,ha,hb,hc in zip(position, heights_a, heights_b, heights_c):\n",
    "    for i, (h, c) in enumerate(sorted(zip([ha,hb,hc], colors))):\n",
    "        plt.style.use('ggplot')\n",
    "        plt.bar(x, h, color=c, zorder=-i,alpha=1)\n",
    "plt.grid(False)\n",
    "plt.xlabel('Neighbourhood', color='black', fontsize=20)\n",
    "#plt.ylabel('P(First observed outbreak)', color='black', fontsize=20)\n",
    "plt.title(r'$n=${}'.format(N,p_reserve), color='black', fontsize=20)\n",
    "plt.xticks([0,1,2,3,4,5], labels = [1,2,3,4,5,6], color='black', fontsize=20)\n",
    "plt.yticks(color='black', fontsize=20)\n",
    "plt.ylim(0,0.27)\n",
    "#plt.legend()\n",
    "plt.savefig('prob_obs_out_range_nus.pdf', bbox_inches='tight')\n",
    "plt.show()"
   ]
  }
 ],
 "metadata": {
  "kernelspec": {
   "display_name": "Python 3 (ipykernel)",
   "language": "python",
   "name": "python3"
  },
  "language_info": {
   "codemirror_mode": {
    "name": "ipython",
    "version": 3
   },
   "file_extension": ".py",
   "mimetype": "text/x-python",
   "name": "python",
   "nbconvert_exporter": "python",
   "pygments_lexer": "ipython3",
   "version": "3.8.17"
  }
 },
 "nbformat": 4,
 "nbformat_minor": 5
}
