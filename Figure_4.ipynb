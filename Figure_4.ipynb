{
 "cells": [
  {
   "cell_type": "markdown",
   "id": "6ab61ec5-e503-47d0-8f8b-cec63667feef",
   "metadata": {},
   "source": [
    "# Figure 4: Individual risk versus household size neighbourhood 1 and r"
   ]
  },
  {
   "cell_type": "markdown",
   "id": "712c9261-de70-4083-8e4c-f83ffd5adb2e",
   "metadata": {},
   "source": [
    "## Abby Barlow, University of Bath\n",
    "## Ben Adams, University of Bath"
   ]
  },
  {
   "cell_type": "markdown",
   "id": "ac668167-06d0-4965-92e2-7a55e9c4de7f",
   "metadata": {},
   "source": [
    "### Importing required libraries"
   ]
  },
  {
   "cell_type": "code",
   "execution_count": 1,
   "id": "05a6929c-4e11-4acb-bc8c-191c47b214ad",
   "metadata": {
    "tags": []
   },
   "outputs": [],
   "source": [
    "%matplotlib inline\n",
    "import numpy as np\n",
    "import pylab as plt\n",
    "from scipy.integrate import odeint, solve_ivp\n",
    "from scipy.optimize import fsolve\n",
    "import pandas as pd"
   ]
  },
  {
   "cell_type": "markdown",
   "id": "6ef18964-6d9f-4255-b9e2-c649739e780a",
   "metadata": {},
   "source": [
    "### Importing required scripts"
   ]
  },
  {
   "cell_type": "code",
   "execution_count": 2,
   "id": "fb44fec5-c36e-4bad-9ba6-1e24608ffc22",
   "metadata": {
    "tags": []
   },
   "outputs": [],
   "source": [
    "import importlib\n",
    "import Keeling_model\n",
    "import R_star_construct\n",
    "\n",
    "importlib.reload(Keeling_model)\n",
    "importlib.reload(R_star_construct)\n",
    "\n",
    "ODEHouseholds2 = Keeling_model.ODEHouseholds2\n",
    "ConfigsConstruct = Keeling_model.ConfigsConstruct\n",
    "RstarAnal = R_star_construct.RstarAnal"
   ]
  },
  {
   "cell_type": "markdown",
   "id": "cd8480ed-0459-40e6-b03f-f410baeca380",
   "metadata": {},
   "source": [
    "### Parameters"
   ]
  },
  {
   "cell_type": "code",
   "execution_count": 3,
   "id": "b3e78bae-11a9-4763-9c1d-1dc44b0d89ef",
   "metadata": {
    "tags": []
   },
   "outputs": [],
   "source": [
    "h1,h2 = 2520,2520            # no. of households in each neighbourhood\n",
    "n1,n2 = 2,2                  # size of households for each neighbourhood\n",
    "Inf1,Inf2 = 1,1              # initial no. of infections in each neighbourhood\n",
    "gamma = 0.2                  # recovery rate from infection\n",
    "days = 100                   # no. of days in simulation\n",
    "tStart, tEnd = 0, days       # start time and end time (days) of simulation\n",
    "tEval = np.linspace(tStart, tEnd)    # output points\n",
    "\n",
    "N2 = 5040                    # Neighbourhood (2) population size"
   ]
  },
  {
   "cell_type": "code",
   "execution_count": 4,
   "id": "2def813d-f7d9-41c7-b522-953e61a3ed9e",
   "metadata": {
    "tags": []
   },
   "outputs": [],
   "source": [
    "## constructing rho\n",
    "\n",
    "N_neigh = 2               # no. of neighbourhoods\n",
    "H = np.array([h1,h2])     # array of number of households in each neighbourhood\n",
    "N = np.array([n1,n2])     # array of household size for each neighbourhood\n",
    "\n",
    "p_reserve = np.array([0,0])            # proportion of contacts reserved for own neighbourhood\n",
    "rho = np.zeros((N_neigh,N_neigh))      # initialising array to store rho values\n",
    "\n",
    "for i in range(N_neigh): \n",
    "    for j in range(N_neigh):\n",
    "        rho[i,j] = (1-p_reserve[i])*(1-p_reserve[j])*H[j]*N[j]/(np.sum((1-p_reserve)*H*N))\n",
    "    rho[i,i] = p_reserve[i] + (1-p_reserve[i])*(1-p_reserve[i])*H[i]*N[i]/(np.sum((1-p_reserve)*H*N))"
   ]
  },
  {
   "cell_type": "code",
   "execution_count": 5,
   "id": "111ef152-18cd-4e99-8324-7b4f3bca3f45",
   "metadata": {
    "tags": []
   },
   "outputs": [
    {
     "data": {
      "text/plain": [
       "(0.27, 0.8)"
      ]
     },
     "execution_count": 5,
     "metadata": {},
     "output_type": "execute_result"
    }
   ],
   "source": [
    "## fixing contact rates alpha and beta\n",
    "\n",
    "nu = 3      # good range 1 to 6\n",
    "beta = fsolve(RstarAnal,0.5,(gamma,nu))[0]\n",
    "alpha = beta/nu\n",
    "alpha=round(alpha,2)\n",
    "beta=round(beta,2)\n",
    "alpha,beta"
   ]
  },
  {
   "cell_type": "markdown",
   "id": "7a213ba0-89e8-4ee0-a5b2-d5562e1b7ab2",
   "metadata": {},
   "source": [
    "### Solve coupled ODE system to obtain proportions of infected individuals in each neighbourhood (by end of sim) \n",
    "#### Over range of household sizes for neighbourhood 1"
   ]
  },
  {
   "cell_type": "code",
   "execution_count": 6,
   "id": "18d3f030-e1e9-4efa-8640-a645dbbd850f",
   "metadata": {
    "tags": []
   },
   "outputs": [
    {
     "name": "stderr",
     "output_type": "stream",
     "text": [
      "C:\\Users\\abby2\\Documents\\SAMBa\\Demographic clustering project\\Publication_results\\Keeling_model.py:75: VisibleDeprecationWarning: Creating an ndarray from ragged nested sequences (which is a list-or-tuple of lists-or-tuples-or ndarrays with different lengths or shapes) is deprecated. If you meant to do this, you must specify 'dtype=object' when creating the ndarray.\n",
      "  array_2d = np.array([H1dot,H2dot])  # putting derivatives into an array\n"
     ]
    }
   ],
   "source": [
    "nVec = np.arange(2,7)              # list of household sizes neighbourhood 1\n",
    "outVec1 = np.zeros(len(nVec))      # initialise array to store no. of infected individuals in neighbourhood 1\n",
    "outVec2 = np.zeros(len(nVec))      # neighbourhood 2\n",
    "\n",
    "for i in range(len(nVec)):\n",
    "    n2 = nVec[i]\n",
    "    h2 = int(N2/n2)\n",
    "    \n",
    "    configs1,n_configs1 = ConfigsConstruct(n1)  # defining the set of household configurations\n",
    "    configs2,n_configs2 = ConfigsConstruct(n2)\n",
    "    \n",
    "    rvec1 = [config1.count('r') for config1 in configs1]  # list of numbers of recovered individuals in the neighbourhood 1 household configurations\n",
    "    rvec2 = [config2.count('r') for config2 in configs2]  # neighbourhood 2\n",
    "    ivec1 = [config1.count('i') for config1 in configs1]  # list of numbers of infectious individuals in the neighbourhood 1 household configurations\n",
    "    ivec2 = [config2.count('i') for config2 in configs2]  # neighbourhood 2\n",
    "\n",
    "    y0 = np.zeros(n_configs1+n_configs2)     # state space is each of the possible household configurations accross the 2 neighbourhoods\n",
    "    y0[0] = (h1 - Inf1)/h1                   # propn of households neighbourhood 1 made up of susceptibles only\n",
    "    y0[1] = Inf1/h1                          # propn of households neighbourhood 1 with one initial infected\n",
    "    y0[n_configs1] = (h2 - Inf2)/h2          # propn of households neighbourhood 2 made up of susceptibles only\n",
    "    y0[n_configs1+1] = Inf2/h2               # propn of households neighbourhood 2 with one initial infected\n",
    "    \n",
    "    params = (beta, beta, alpha, alpha, rho[0,0], rho[1,1], gamma, n1, n2, h1, h2)\n",
    "    sol = solve_ivp(ODEHouseholds2, y0 = y0, method='LSODA', t_span = [tStart, tEnd], t_eval = tEval, args=params)    # solve the differential equation system\n",
    "    sol_df = pd.DataFrame(np.transpose(sol.y))  # bung output into dataframe, columns are state x config y, rows are days\n",
    "    # retrieve proportion infected in neighbourhoods\n",
    "    Inf1_propn = np.sum(sol_df.loc[:,:n_configs1-1]*rvec1,1)/n1 + np.sum(sol_df.loc[:,:n_configs1-1]*ivec1,1)/n1\n",
    "    Inf2_propn = np.sum(sol_df.loc[:,n_configs1:]*rvec2,1)/n2 + np.sum(sol_df.loc[:,n_configs1:]*ivec2,1)/n2\n",
    "    # no. infected each neighbourhood\n",
    "    outVec1[i] = Inf1_propn[len(tEval)-1]*n1*h1\n",
    "    outVec2[i] = Inf2_propn[len(tEval)-1]*n2*h2"
   ]
  },
  {
   "cell_type": "markdown",
   "id": "486bbd94-3a63-448e-b504-9dcd71b84602",
   "metadata": {},
   "source": [
    "### Producing figure"
   ]
  },
  {
   "cell_type": "code",
   "execution_count": 7,
   "id": "d73a2601-ffb2-4cc6-851b-1bc517b45b9b",
   "metadata": {
    "tags": []
   },
   "outputs": [
    {
     "name": "stderr",
     "output_type": "stream",
     "text": [
      "findfont: Font family ['cmsy10'] not found. Falling back to DejaVu Sans.\n",
      "findfont: Font family ['cmr10'] not found. Falling back to DejaVu Sans.\n",
      "findfont: Font family ['cmtt10'] not found. Falling back to DejaVu Sans.\n",
      "findfont: Font family ['cmmi10'] not found. Falling back to DejaVu Sans.\n",
      "findfont: Font family ['cmb10'] not found. Falling back to DejaVu Sans.\n",
      "findfont: Font family ['cmss10'] not found. Falling back to DejaVu Sans.\n",
      "findfont: Font family ['cmex10'] not found. Falling back to DejaVu Sans.\n"
     ]
    },
    {
     "data": {
      "image/png": "[encoded data removed]",
      "text/plain": [
       "<Figure size 432x288 with 1 Axes>"
      ]
     },
     "metadata": {
      "needs_background": "light"
     },
     "output_type": "display_data"
    }
   ],
   "source": [
    "plt.rcParams.update({'font.size': 20})\n",
    "plt.plot(nVec,outVec1/(n1*h1), '+', markersize = 10,label='neighbourhood 1')  # plot proportion infected neigh 1 vs household size neigh 1\n",
    "plt.plot(nVec,outVec2/(n2*h2), 'x', markersize = 10,label='neighbourhood 2')  # proportion infected neigh 2\n",
    "plt.plot(nVec,(outVec1+outVec2)/(n1*h1+n2*h2), '*', markersize = 10, label='overall')  # averaged over neighbourhoods \n",
    "plt.annotate('neigh. 1', xy=(5,0.98), fontsize=15)\n",
    "plt.annotate('neigh. 2', xy=(5,0.89), fontsize=15)\n",
    "plt.annotate('overall', xy=(5,0.935), fontsize=15)\n",
    "\n",
    "plt.ylim(0.85,1)\n",
    "plt.xticks([2,3,4,5,6])\n",
    "plt.xlabel(r'Household size $n_1$')\n",
    "plt.ylabel('Individual infection risk')\n",
    "plt.title(r'$\\nu=${}, $r=${}'.format(nu,0))\n",
    "plt.tight_layout()\n",
    "plt.savefig('Ind_risk.pdf')"
   ]
  },
  {
   "cell_type": "markdown",
   "id": "ec53c21a-50ac-48f6-a27d-6053c04e79c5",
   "metadata": {},
   "source": [
    "#### Over range of r values, the proportion of contacts reserved for your own neighbourhood"
   ]
  },
  {
   "cell_type": "code",
   "execution_count": 8,
   "id": "dc5554bb-51c9-43a6-8ac1-e3eea88531f0",
   "metadata": {
    "tags": []
   },
   "outputs": [
    {
     "name": "stderr",
     "output_type": "stream",
     "text": [
      "C:\\Users\\abby2\\Documents\\SAMBa\\Demographic clustering project\\Publication_results\\Keeling_model.py:75: VisibleDeprecationWarning: Creating an ndarray from ragged nested sequences (which is a list-or-tuple of lists-or-tuples-or ndarrays with different lengths or shapes) is deprecated. If you meant to do this, you must specify 'dtype=object' when creating the ndarray.\n",
      "  array_2d = np.array([H1dot,H2dot])  # putting derivatives into an array\n"
     ]
    }
   ],
   "source": [
    "plt.rcParams.update({'font.size': 20})\n",
    "pvec = np.arange(0,1.1,0.1)       # array of r values\n",
    "outVec11 = np.zeros(len(pvec))    # initialise array to store no. of infected individuals in neighbourhood 1\n",
    "outVec22 = np.zeros(len(pvec))    # neighbourhood 2\n",
    "\n",
    "configs1,n_configs1 = ConfigsConstruct(n1)  # defining the set of household configurations\n",
    "configs2,n_configs2 = ConfigsConstruct(n2)\n",
    "    \n",
    "rvec1 = [config1.count('r') for config1 in configs1]  # list of numbers of infectious individuals in the neighbourhood 1 household configurations\n",
    "rvec2 = [config2.count('r') for config2 in configs2]  # neighbourhood 2\n",
    "ivec1 = [config1.count('i') for config1 in configs1]  # list of numbers of infectious individuals in the neighbourhood 1 household configurations\n",
    "ivec2 = [config2.count('i') for config2 in configs2]  # neighbourhood 2\n",
    "\n",
    "ind_i1 = [1 if ivec1_ > 0 else 0 for ivec1_ in ivec1]\n",
    "ind_i2 = [1 if ivec2_ > 0 else 0 for ivec2_ in ivec2]\n",
    "ind_r1 = [1 if rvec1_ > 0 else 0 for rvec1_ in rvec1]\n",
    "ind_r2 = [1 if rvec2_ > 0 else 0 for rvec2_ in rvec2]\n",
    "\n",
    "y0 = np.zeros(n_configs1+n_configs2)     # state space is each of the possible household configurations accross the 2 neighbourhoods\n",
    "y0[0] = (h1 - Inf1)/h1                   # propn of households neighbourhood 1 made up of susceptibles only\n",
    "y0[1] = Inf1/h1                          # propn of households neighbourhood 1 with one initial infected\n",
    "y0[n_configs1] = (h2 - Inf2)/h2          # propn of households neighbourhood 2 made up of susceptibles only\n",
    "y0[n_configs1+1] = Inf2/h2               # propn of households neighbourhood 2 with one initial infected\n",
    "\n",
    "for i in range(len(pvec)):                         # looping over the range of r values\n",
    "    p_reserve = np.array([pvec[i],pvec[i]])\n",
    "    rho = np.zeros((N_neigh,N_neigh))              # initialising array to store rho values each iteration\n",
    "    \n",
    "    if pvec[i] == 1:                               # if r=1, use separate case to avoid division by 0\n",
    "            rho[0,0] = 1\n",
    "            rho[1,1] = 1\n",
    "    else:\n",
    "        for k in range(N_neigh):                   # define rho from r\n",
    "            for j in range(N_neigh):\n",
    "                rho[k,j] = (1-p_reserve[k])*(1-p_reserve[j])*H[j]*N[j]/(np.sum((1-p_reserve)*H*N))\n",
    "            rho[k,k] = p_reserve[k] + (1-p_reserve[k])*(1-p_reserve[k])*H[k]*N[k]/(np.sum((1-p_reserve)*H*N))\n",
    "        \n",
    "    params = (beta, beta, alpha, alpha, rho[0,0], rho[1,1], gamma, n1, n2, h1, h2)\n",
    "    sol = solve_ivp(ODEHouseholds2, y0 = y0, method='LSODA', t_span = [tStart, tEnd], t_eval = tEval, args=params)    # solve the differential equation system\n",
    "    sol_df = pd.DataFrame(np.transpose(sol.y))  # bung output into dataframe, columns are state x config y, rows are days\n",
    "    Inf1_propn = np.sum(sol_df.loc[:,:n_configs1-1]*rvec1,1)/n1 + np.sum(sol_df.loc[:,:n_configs1-1]*ivec1,1)/n1\n",
    "    Inf2_propn = np.sum(sol_df.loc[:,n_configs1:]*rvec2,1)/n2 + np.sum(sol_df.loc[:,n_configs1:]*ivec2,1)/n2\n",
    "    outVec11[i] = Inf1_propn[len(tEval)-1]*n1*h1\n",
    "    outVec22[i] = Inf2_propn[len(tEval)-1]*n2*h2   \n",
    "    "
   ]
  },
  {
   "cell_type": "markdown",
   "id": "4d0a968b-1038-42c0-8965-2bb71a54a39d",
   "metadata": {},
   "source": [
    "### Producing figure"
   ]
  },
  {
   "cell_type": "code",
   "execution_count": 9,
   "id": "4c913ffa-3c53-4b85-9f52-ef1178f06ad2",
   "metadata": {
    "tags": []
   },
   "outputs": [
    {
     "data": {
      "image/png": "[encoded data removed]",
      "text/plain": [
       "<Figure size 432x288 with 1 Axes>"
      ]
     },
     "metadata": {
      "needs_background": "light"
     },
     "output_type": "display_data"
    }
   ],
   "source": [
    "plt.plot(pvec,outVec11/(n1*h1), linewidth=4,label='neighbourhood 1, size 4')   # plotting propn infected in neighbourhood 1 vs r\n",
    "plt.plot(pvec,outVec22/(n2*h2), linewidth=4,label='neighbourhood 2, size 2')   # neighbourhood 2\n",
    "plt.plot(pvec,(outVec11+outVec22)/(n1*h1+n2*h2), linewidth=4, label ='overall')\n",
    "plt.xlabel(r'Transmission localisation $r_i$')\n",
    "plt.ylabel('Individual infection risk')\n",
    "plt.annotate('neigh. 1', xy=(0.75,0.985), fontsize=15)\n",
    "plt.annotate('neigh. 2', xy=(0.75,0.87), fontsize=15)\n",
    "plt.annotate('overall', xy=(0.75,0.9275), fontsize=15)\n",
    "\n",
    "plt.xlim(0,1)\n",
    "plt.yticks([0.85,0.90,0.95,1.0])\n",
    "plt.title(r'$\\nu=${}'.format(nu))\n",
    "plt.tight_layout()\n",
    "#plt.savefig('Coupling_risk.pdf')"
   ]
  },
  {
   "cell_type": "markdown",
   "id": "c2bb7c9e-8c6c-4a10-8f8b-d1e673ffa6d6",
   "metadata": {},
   "source": [
    "Individual infection risk over entire outbreak when neighbourhoods have different household sizes and the strength of localisation between the neighbourhoods are varied. (a) Household size in neighbourhood $1$ is varied from $2$ to $6$ and $n_2=2$. Individual infection risks of individuals from neighbourhood $1$, $2$ and overall are shown as blue crosses, orange pluses and blue stars respectively. Infection risk is defined as the probability an individual is infected by the time the outbreak ends. (b) $n_1=6$ and $n_2=2$. The localisation of the contacts of the two neighbourhoods is varied from isolated to proportional mixing. Individual risk of those from neighbourhood $1$, $2$ and overall are displayed as blue, orange and green curves respectively."
   ]
  }
 ],
 "metadata": {
  "kernelspec": {
   "display_name": "venv1",
   "language": "python",
   "name": "venv1"
  },
  "language_info": {
   "codemirror_mode": {
    "name": "ipython",
    "version": 3
   },
   "file_extension": ".py",
   "mimetype": "text/x-python",
   "name": "python",
   "nbconvert_exporter": "python",
   "pygments_lexer": "ipython3",
   "version": "3.10.11"
  }
 },
 "nbformat": 4,
 "nbformat_minor": 5
}
